{
 "cells": [
  {
   "cell_type": "code",
   "execution_count": 1,
   "metadata": {
    "execution": {
     "iopub.execute_input": "2024-01-08T19:35:31.284784Z",
     "iopub.status.busy": "2024-01-08T19:35:31.284386Z",
     "iopub.status.idle": "2024-01-08T19:35:32.193368Z",
     "shell.execute_reply": "2024-01-08T19:35:32.193107Z"
    }
   },
   "outputs": [],
   "source": [
    "import re\n",
    "import pandas as pd"
   ]
  },
  {
   "cell_type": "code",
   "execution_count": 2,
   "metadata": {
    "execution": {
     "iopub.execute_input": "2024-01-08T19:35:32.195029Z",
     "iopub.status.busy": "2024-01-08T19:35:32.194912Z",
     "iopub.status.idle": "2024-01-08T19:35:32.196834Z",
     "shell.execute_reply": "2024-01-08T19:35:32.196609Z"
    }
   },
   "outputs": [],
   "source": [
    "with open('_toc.yml', 'r') as infile:\n",
    "    text = infile.read()"
   ]
  },
  {
   "cell_type": "code",
   "execution_count": 3,
   "metadata": {
    "execution": {
     "iopub.execute_input": "2024-01-08T19:35:32.198169Z",
     "iopub.status.busy": "2024-01-08T19:35:32.198080Z",
     "iopub.status.idle": "2024-01-08T19:35:32.199981Z",
     "shell.execute_reply": "2024-01-08T19:35:32.199774Z"
    }
   },
   "outputs": [],
   "source": [
    "md_fns = re.findall('(Volumes.*?)\\n', text)\n",
    "md_fns = [fn.strip() for fn in md_fns]"
   ]
  },
  {
   "cell_type": "code",
   "execution_count": 4,
   "metadata": {
    "execution": {
     "iopub.execute_input": "2024-01-08T19:35:32.201171Z",
     "iopub.status.busy": "2024-01-08T19:35:32.201083Z",
     "iopub.status.idle": "2024-01-08T19:35:32.319046Z",
     "shell.execute_reply": "2024-01-08T19:35:32.318613Z"
    }
   },
   "outputs": [
    {
     "name": "stdout",
     "output_type": "stream",
     "text": [
      "/Users/nealcaren/Documents/GitHub/fightordie\r\n"
     ]
    }
   ],
   "source": [
    "!pwd"
   ]
  },
  {
   "cell_type": "code",
   "execution_count": 5,
   "metadata": {
    "execution": {
     "iopub.execute_input": "2024-01-08T19:35:32.321372Z",
     "iopub.status.busy": "2024-01-08T19:35:32.321127Z",
     "iopub.status.idle": "2024-01-08T19:35:32.324204Z",
     "shell.execute_reply": "2024-01-08T19:35:32.323896Z"
    }
   },
   "outputs": [],
   "source": [
    "with open('_build/html/sitemap.txt', 'w') as outfile:\n",
    "    for fn in md_fns:\n",
    "        s = 'https://www.dareyoufight.org/' + fn + '\\n'\n",
    "        outfile.write(s)"
   ]
  },
  {
   "cell_type": "code",
   "execution_count": 6,
   "metadata": {
    "execution": {
     "iopub.execute_input": "2024-01-08T19:35:32.325984Z",
     "iopub.status.busy": "2024-01-08T19:35:32.325888Z",
     "iopub.status.idle": "2024-01-08T19:35:32.349044Z",
     "shell.execute_reply": "2024-01-08T19:35:32.348756Z"
    }
   },
   "outputs": [],
   "source": [
    "meta = []\n",
    "for md_fn in md_fns:\n",
    "    with open(md_fn, 'r') as infile:\n",
    "        md = infile.read()\n",
    "        \n",
    "    meta_text = md.split('-->')[0].split('<!--')[-1].splitlines()\n",
    "    meta_d = {'fn': md_fn}\n",
    "    for row in meta_text:\n",
    "        if ':' in row:\n",
    "            p = row.split(':')\n",
    "            \n",
    "            k = p[0]\n",
    "            v = ':'.join(p[1:])\n",
    "            \n",
    "            k,v = k.strip(), v.strip()\n",
    "            meta_d[k] = v\n",
    "        if 'author' not in meta_d:\n",
    "            meta_d['author'] = 'W.E.B. Du Bois'\n",
    "        if 'journal' not in meta_d:\n",
    "            meta_d['journal'] = 'The Crisis'        \n",
    "    \n",
    "    meta.append(meta_d)"
   ]
  },
  {
   "cell_type": "code",
   "execution_count": 7,
   "metadata": {
    "execution": {
     "iopub.execute_input": "2024-01-08T19:35:32.350529Z",
     "iopub.status.busy": "2024-01-08T19:35:32.350442Z",
     "iopub.status.idle": "2024-01-08T19:35:32.358789Z",
     "shell.execute_reply": "2024-01-08T19:35:32.358552Z"
    }
   },
   "outputs": [],
   "source": [
    "df = pd.DataFrame(meta)\n",
    "\n",
    "def title_link(row):\n",
    "    link = 'https://www.dareyoufight.org/' + row['fn'].replace('.md','.html')\n",
    "    title = row['title']\n",
    "    t = f'[{title}]({link})'\n",
    "    return t\n",
    "\n",
    "df['Title'] = df.apply(title_link, axis=1)"
   ]
  },
  {
   "cell_type": "code",
   "execution_count": null,
   "metadata": {},
   "outputs": [],
   "source": []
  },
  {
   "cell_type": "code",
   "execution_count": 8,
   "metadata": {
    "execution": {
     "iopub.execute_input": "2024-01-08T19:35:32.360215Z",
     "iopub.status.busy": "2024-01-08T19:35:32.360119Z",
     "iopub.status.idle": "2024-01-08T19:35:32.390648Z",
     "shell.execute_reply": "2024-01-08T19:35:32.390350Z"
    }
   },
   "outputs": [],
   "source": [
    "df['Year'] = df['year']\n",
    "df['Volume'] = df['volume']\n",
    "df['Issue'] = df['issue'].str.replace('-Supplement','S')\n",
    "\n",
    "keep = ['Year', 'Volume', 'Issue', 'Title']\n",
    "\n",
    "md_table = df[keep].sort_values(by=['Year', 'Volume', 'Issue']).to_markdown(index=False)"
   ]
  },
  {
   "cell_type": "code",
   "execution_count": 9,
   "metadata": {
    "execution": {
     "iopub.execute_input": "2024-01-08T19:35:32.391959Z",
     "iopub.status.busy": "2024-01-08T19:35:32.391881Z",
     "iopub.status.idle": "2024-01-08T19:35:32.393478Z",
     "shell.execute_reply": "2024-01-08T19:35:32.393239Z"
    }
   },
   "outputs": [],
   "source": [
    "t = f'''# Chronological Listing\n",
    "\n",
    "{md_table}\n",
    "'''"
   ]
  },
  {
   "cell_type": "code",
   "execution_count": 10,
   "metadata": {
    "execution": {
     "iopub.execute_input": "2024-01-08T19:35:32.394689Z",
     "iopub.status.busy": "2024-01-08T19:35:32.394619Z",
     "iopub.status.idle": "2024-01-08T19:35:32.396887Z",
     "shell.execute_reply": "2024-01-08T19:35:32.396640Z"
    }
   },
   "outputs": [],
   "source": [
    "with open('chronological.md', 'w') as outfile:\n",
    "    outfile.write(t)"
   ]
  },
  {
   "cell_type": "code",
   "execution_count": 11,
   "metadata": {
    "execution": {
     "iopub.execute_input": "2024-01-08T19:35:32.398123Z",
     "iopub.status.busy": "2024-01-08T19:35:32.398052Z",
     "iopub.status.idle": "2024-01-08T19:35:32.400395Z",
     "shell.execute_reply": "2024-01-08T19:35:32.400190Z"
    }
   },
   "outputs": [],
   "source": [
    "with open('index_with_var.md', 'r') as infile:\n",
    "    md = infile.read()\n",
    "\n",
    "count = len(df)\n",
    "md = md.replace('{COUNT}', f'{count}')\n",
    "\n",
    "with open('index.md', 'w') as outfile:\n",
    "    outfile.write(md)"
   ]
  },
  {
   "cell_type": "code",
   "execution_count": 12,
   "metadata": {
    "execution": {
     "iopub.execute_input": "2024-01-08T19:35:32.401578Z",
     "iopub.status.busy": "2024-01-08T19:35:32.401496Z",
     "iopub.status.idle": "2024-01-08T19:35:32.403034Z",
     "shell.execute_reply": "2024-01-08T19:35:32.402826Z"
    }
   },
   "outputs": [
    {
     "name": "stdout",
     "output_type": "stream",
     "text": [
      "580\n"
     ]
    }
   ],
   "source": [
    "print(count)"
   ]
  },
  {
   "cell_type": "code",
   "execution_count": null,
   "metadata": {},
   "outputs": [],
   "source": []
  },
  {
   "cell_type": "code",
   "execution_count": null,
   "metadata": {},
   "outputs": [],
   "source": []
  }
 ],
 "metadata": {
  "kernelspec": {
   "display_name": "Python 3 (ipykernel)",
   "language": "python",
   "name": "python3"
  },
  "language_info": {
   "codemirror_mode": {
    "name": "ipython",
    "version": 3
   },
   "file_extension": ".py",
   "mimetype": "text/x-python",
   "name": "python",
   "nbconvert_exporter": "python",
   "pygments_lexer": "ipython3",
   "version": "3.10.12"
  }
 },
 "nbformat": 4,
 "nbformat_minor": 4
}
