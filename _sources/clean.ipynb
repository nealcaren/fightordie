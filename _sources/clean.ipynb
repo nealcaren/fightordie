{
 "cells": [
  {
   "cell_type": "code",
   "execution_count": 57,
   "metadata": {},
   "outputs": [],
   "source": [
    "fn = '/Users/nealcaren/Documents/GitHub/fightordie/_build/html/index.html'"
   ]
  },
  {
   "cell_type": "code",
   "execution_count": 58,
   "metadata": {},
   "outputs": [],
   "source": [
    "with open(fn,'r') as infile:\n",
    "    html = infile.read()\n",
    "    \n",
    "html = html.replace(\"<h1>Dare you Fight<a\", \"<h1>Dare you Fight: W.E.B. Du Bois in The Crisis<a\")\n",
    "html = html.replace(\"<h1>Dare you Fight</h1>\", \"<h1>Dare you Fight:<br>W.E.B. Du Bois in The Crisis</h1>\")"
   ]
  },
  {
   "cell_type": "code",
   "execution_count": 60,
   "metadata": {},
   "outputs": [
    {
     "data": {
      "text/plain": [
       "'<div class=\"section\" id=\"table-of-contents\">\\n<h2>Table of Contents<a class=\"headerlink\" href=\"#table-of-contents\" title=\"Permalink to this headline\">¶</a></h2>\\n<div class=\"toctree-wrapper compound\">\\n<ul>\\n<li class=\"toctree-l1\"><a class=\"reference internal\" href=\"toc.html\">Table of Contents</a></li>\\n<li class=\"toctree-l1\"><a class=\"reference internal\" href=\"Sections/socialchange.html\">Politics</a><ul>\\n<li class=\"toctree-l2\"><a class=\"reference internal\" href=\"Sections/protest.html\">Protest</a><ul>\\n<li class=\"toctree-l3\"><a class=\"reference internal\" href=\"Volumes/01/01/Agitation.html\">Agitation (1910)</a></li>\\n<li class=\"toctree-l3\"><a class=\"reference internal\" href=\"Volumes/05/05/proper_way.html\">The Proper Way (1913)</a></li>\\n<li class=\"toctree-l3\"><a class=\"reference internal\" href=\"Volumes/16/03/close_ranks.html\">Close Ranks (1918)</a></li>\\n<li class=\"toctree-l3\"><a class=\"reference internal\" href=\"Volumes/19/01/statement.html\">A Statement (1919)</a></li>\\n<li class=\"toctree-l3\"><a class=\"reference internal\" href=\"Volumes/12/06/negro_party.html\">The Negro Party (1916)</a></li>\\n<li class=\"toctree-l3\"><a class=\"reference internal\" href=\"Volumes/22/01/inter-racial_comity.html\">Inter-Racial Comity (1921)</a></li>\\n<li class=\"toctree-l3\"><a class=\"reference internal\" href=\"Volumes/24/01/publicity.html\">Publicity (1922)</a></li>\\n<li class=\"toctree-l3\"><a class=\"reference internal\" href=\"Volumes/41/05/violence.html\">Violence (1934)</a></li>\\n<li class=\"toctree-l3\"><a class=\"reference internal\" href=\"Volumes/41/06/counsels_of_despair.html\">Counsels of Despair (1934)</a></li>\\n</ul>\\n</li>\\n<li class=\"toctree-l2\"><a class=\"reference internal\" href=\"Sections/voting.html\">Disenfranchisement</a><ul>\\n<li class=\"toctree-l3\"><a class=\"reference internal\" href=\"Volumes/30/02/disenfranchisement.html\">Disenfranchisement (1925)</a></li>\\n<li class=\"toctree-l3\"><a class=\"reference internal\" href=\"Volumes/36/05/negro_citizen.html\">The Negro Citizen (1929)</a></li>\\n<li class=\"toctree-l3\"><a class=\"reference internal\" href=\"Volumes/36/11/negro_in_politics.html\">The Negro in Politics</a></li>\\n</ul>\\n</li>\\n<li class=\"toctree-l2\"><a class=\"reference internal\" href=\"Sections/electoral.html\">Voting and Parties</a><ul>\\n<li class=\"toctree-l3\"><a class=\"reference internal\" href=\"Volumes/04/04/politics.html\">Politics (1912)</a></li>\\n<li class=\"toctree-l3\"><a class=\"reference internal\" href=\"Volumes/15/01/oath_of_the_negro_voter.html\">The Oath of the Negro Voter (1917)</a></li>\\n<li class=\"toctree-l3\"><a class=\"reference internal\" href=\"Volumes/21/02/unreal_campaign.html\">The Unreal Campaign (1920)</a></li>\\n<li class=\"toctree-l3\"><a class=\"reference internal\" href=\"Volumes/22/01/drive.html\">The Drive (1921)</a></li>\\n<li class=\"toctree-l3\"><a class=\"reference internal\" href=\"Volumes/34/04/chicago.html\">Chicago (1927)</a></li>\\n<li class=\"toctree-l3\"><a class=\"reference internal\" href=\"Volumes/35/11/on_the_fence.html\">On the Fence (1928)</a></li>\\n<li class=\"toctree-l3\"><a class=\"reference internal\" href=\"Volumes/35/11/third_party.html\">A Third Party (1928)</a></li>\\n</ul>\\n</li>\\n</ul>\\n</li>\\n<li class=\"toctree-l1\"><a class=\"reference internal\" href=\"Sections/NAACP.html\">NAACP</a><ul>\\n<li class=\"toctree-l2\"><a class=\"reference internal\" href=\"Volumes/01/02/NAACP.html\">N.A.A.C.P. (1910)</a></li>\\n<li class=\"toctree-l2\"><a class=\"reference internal\" href=\"Volumes/01/01/TheCrisis.html\">The Crisis (1910)</a></li>\\n<li class=\"toctree-l2\"><a class=\"reference internal\" href=\"Volumes/06/01/vigilance_committee.html\">The Vigilance Committee: A Call To Arms (1913)</a></li>\\n<li class=\"toctree-l2\"><a class=\"reference internal\" href=\"Volumes/07/03/fightordie.html\">Join or Die (1914)</a></li>\\n<li class=\"toctree-l2\"><a class=\"reference internal\" href=\"Volumes/30/01/new_crisis.html\">The New Crisis (1925)</a></li>\\n<li class=\"toctree-l2\"><a class=\"reference internal\" href=\"Volumes/33/03/our_methods.html\">Our Methods (1927)</a></li>\\n<li class=\"toctree-l2\"><a class=\"reference internal\" href=\"Volumes/40/01/toward_a_new_racial_philosophy.html\">Toward a New Racial Philosophy (1933)</a></li>\\n<li class=\"toctree-l2\"><a class=\"reference internal\" href=\"Volumes/41/08/dr_dubois_resigns.html\">Dr. DuBois Resigns (1934)</a></li>\\n</ul>\\n</li>\\n<li class=\"toctree-l1\"><a class=\"reference internal\" href=\"Sections/lynching.html\">Lynching</a><ul>\\n<li class=\"toctree-l2\"><a class=\"reference internal\" href=\"Volumes/02/04/lynching.html\">Lynching (1911)</a></li>\\n<li class=\"toctree-l2\"><a class=\"reference internal\" href=\"Volumes/08/03/cause_of_lynching.html\">The Cause of Lynching (1914)</a></li>\\n<li class=\"toctree-l2\"><a class=\"reference internal\" href=\"Volumes/12/06/cowardice.html\">Cowardice (1916)</a></li>\\n<li class=\"toctree-l2\"><a class=\"reference internal\" href=\"Volumes/22/01/anti-lynching_legislation.html\">Anti-Lynching Legislation (1921)</a></li>\\n<li class=\"toctree-l2\"><a class=\"reference internal\" href=\"Volumes/26/02/university_course_in_lynching.html\">A University Course in Lynching (1923)</a></li>\\n<li class=\"toctree-l2\"><a class=\"reference internal\" href=\"Volumes/32/01/lynching.html\">Lynching (1926)</a></li>\\n<li class=\"toctree-l2\"><a class=\"reference internal\" href=\"Volumes/34/01/aiken.html\">Aiken (1927)</a></li>\\n<li class=\"toctree-l2\"><a class=\"reference internal\" href=\"Volumes/33/04/lynching.html\">Lynching (1927)</a></li>\\n<li class=\"toctree-l2\"><a class=\"reference internal\" href=\"Volumes/38/04/causes_of_lynching.html\">Causes of Lynching (1931)</a></li>\\n</ul>\\n</li>\\n<li class=\"toctree-l1\"><a class=\"reference internal\" href=\"Sections/segregation.html\">Segregation</a><ul>\\n<li class=\"toctree-l2\"><a class=\"reference internal\" href=\"Volumes/01/01/Segregation.html\">Segregation (1910)</a></li>\\n<li class=\"toctree-l2\"><a class=\"reference internal\" href=\"Volumes/03/05/homes.html\">Homes (1912)</a></li>\\n<li class=\"toctree-l2\"><a class=\"reference internal\" href=\"Volumes/05/04/blesseddiscrimination.html\">Blessed Discrimination (1913)</a></li>\\n<li class=\"toctree-l2\"><a class=\"reference internal\" href=\"Volumes/13/06/perpetual_dilemma.html\">The Perpetual Dilemma (1917)</a></li>\\n<li class=\"toctree-l2\"><a class=\"reference internal\" href=\"Volumes/17/03/jim_crow.html\">Jim Crow (1919)</a></li>\\n<li class=\"toctree-l2\"><a class=\"reference internal\" href=\"Volumes/18/01/returning_soldiers.html\">Returning Soldiers (1919)</a></li>\\n<li class=\"toctree-l2\"><a class=\"reference internal\" href=\"Volumes/26/02/on_being_crazy.html\">On Being Crazy (1923)</a></li>\\n<li class=\"toctree-l2\"><a class=\"reference internal\" href=\"Volumes/31/01/challenge_of_detroit.html\">The Challenge of Detroit (1925)</a></li>\\n<li class=\"toctree-l2\"><a class=\"reference internal\" href=\"Volumes/40/03/Color_caste_in_the_united_states.html\">Color Caste in the United States (1933)</a></li>\\n<li class=\"toctree-l2\"><a class=\"reference internal\" href=\"Volumes/41/01/segregation.html\">Segregation (1934)</a></li>\\n<li class=\"toctree-l2\"><a class=\"reference internal\" href=\"Volumes/41/02/naacp_and_race_segregation.html\">The N.A.A.C.P. and Race Segregation (1934)</a></li>\\n<li class=\"toctree-l2\"><a class=\"reference internal\" href=\"Volumes/41/04/segregation_in_the_north.html\">Segregation in the North (1934)</a></li>\\n<li class=\"toctree-l2\"><a class=\"reference internal\" href=\"Volumes/41/05/segregation.html\">Segregation (1934)</a></li>\\n</ul>\\n</li>\\n<li class=\"toctree-l1\"><a class=\"reference internal\" href=\"Sections/racism.html\">Racism and Discrimination</a><ul>\\n<li class=\"toctree-l2\"><a class=\"reference internal\" href=\"Volumes/01/03/social_equality.html\">“Social Equality” (1911)</a></li>\\n<li class=\"toctree-l2\"><a class=\"reference internal\" href=\"Volumes/01/03/ashamed.html\">“Ashamed” (1911)</a></li>\\n<li class=\"toctree-l2\"><a class=\"reference internal\" href=\"Volumes/03/04/light.html\">Light (1912)</a></li>\\n<li class=\"toctree-l2\"><a class=\"reference internal\" href=\"Volumes/06/02/logic.html\">Logic (1913)</a></li>\\n<li class=\"toctree-l2\"><a class=\"reference internal\" href=\"Volumes/10/01/clansman.html\">The Clansman (1915)</a></li>\\n<li class=\"toctree-l2\"><a class=\"reference internal\" href=\"Volumes/12/05/conduct_not_color.html\">Conduct, Not Color (1916)</a></li>\\n<li class=\"toctree-l2\"><a class=\"reference internal\" href=\"Volumes/12/06/migration.html\">Migration (1916)</a></li>\\n<li class=\"toctree-l2\"><a class=\"reference internal\" href=\"Volumes/24/01/slavery.html\">Slavery (1921)</a></li>\\n<li class=\"toctree-l2\"><a class=\"reference internal\" href=\"Volumes/31/04/newer_south.html\">The Newer South (1926)</a></li>\\n<li class=\"toctree-l2\"><a class=\"reference internal\" href=\"Volumes/34/02/higher_friction.html\">The Higher Friction (1927)</a></li>\\n<li class=\"toctree-l2\"><a class=\"reference internal\" href=\"Volumes/34/09/prejudice.html\">Prejudice (1927)</a></li>\\n<li class=\"toctree-l2\"><a class=\"reference internal\" href=\"Volumes/40/07/protest.html\">A Protest (1933)</a></li>\\n</ul>\\n</li>\\n<li class=\"toctree-l1\"><a class=\"reference internal\" href=\"Sections/economics.html\">Economics</a><ul>\\n<li class=\"toctree-l2\"><a class=\"reference internal\" href=\"Sections/labor.html\">Labor</a><ul>\\n<li class=\"toctree-l3\"><a class=\"reference internal\" href=\"Volumes/03/06/servant_in_the_south.html\">The Servant in the South (1912)</a></li>\\n<li class=\"toctree-l3\"><a class=\"reference internal\" href=\"Volumes/15/05/the_black_man_and_the_unions.html\">The Black Man and the Unions (1918)</a></li>\\n<li class=\"toctree-l3\"><a class=\"reference internal\" href=\"Volumes/18/05/labor_omnia_vincit.html\">Labor Omnia Vincit (1919)</a></li>\\n<li class=\"toctree-l3\"><a class=\"reference internal\" href=\"Volumes/31/02/black_man_and_labor.html\">The Black Man and Labor (1925)</a></li>\\n<li class=\"toctree-l3\"><a class=\"reference internal\" href=\"Volumes/31/06/again_pullman_porters.html\">Again, Pullman Porters (1926)</a></li>\\n<li class=\"toctree-l3\"><a class=\"reference internal\" href=\"Volumes/40/12/af_of_l.html\">The A.F. of L. (1933)</a></li>\\n</ul>\\n</li>\\n<li class=\"toctree-l2\"><a class=\"reference internal\" href=\"Sections/socialism.html\">Socialism and Communism</a><ul>\\n<li class=\"toctree-l3\"><a class=\"reference internal\" href=\"Volumes/19/04/cooperation.html\">Coöperation (1920)</a></li>\\n<li class=\"toctree-l3\"><a class=\"reference internal\" href=\"Volumes/22/03/negro_and_radical_thought.html\">The Negro and Radical Thought (1921)</a></li>\\n<li class=\"toctree-l3\"><a class=\"reference internal\" href=\"Volumes/22/04/class_struggle.html\">The Class Struggle (1921)</a></li>\\n<li class=\"toctree-l3\"><a class=\"reference internal\" href=\"Volumes/22/06/socialism_and_the_negro.html\">Socialism and the Negro (1921)</a></li>\\n<li class=\"toctree-l3\"><a class=\"reference internal\" href=\"Volumes/22/06/single_tax.html\">The Single Tax (1921)</a></li>\\n<li class=\"toctree-l3\"><a class=\"reference internal\" href=\"Volumes/27/03/black_man_and_the_wounded_world.html\">The Black Man and the Wounded World (1923)</a></li>\\n<li class=\"toctree-l3\"><a class=\"reference internal\" href=\"Volumes/33/01/russia_1926.html\">Russia, 1926 (1926)</a></li>\\n<li class=\"toctree-l3\"><a class=\"reference internal\" href=\"Volumes/33/04/judging_russia.html\">Judging Russia (1927)</a></li>\\n<li class=\"toctree-l3\"><a class=\"reference internal\" href=\"Volumes/35/11/dunbar_national_bank.html\">The Dunbar National Bank (1928)</a></li>\\n<li class=\"toctree-l3\"><a class=\"reference internal\" href=\"Volumes/38/09/negro_and_communism.html\">The Negro and Communism (1931)</a></li>\\n<li class=\"toctree-l3\"><a class=\"reference internal\" href=\"Volumes/40/05/marxism_and_the_negro_problem.html\">Marxism and The Negro Problem (1933)</a></li>\\n<li class=\"toctree-l3\"><a class=\"reference internal\" href=\"Volumes/40/07/our_class_struggle.html\">Our Class Struggle (1933)</a></li>\\n</ul>\\n</li>\\n</ul>\\n</li>\\n<li class=\"toctree-l1\"><a class=\"reference internal\" href=\"Sections/womansuffrage.html\">Woman Suffrage</a><ul>\\n<li class=\"toctree-l2\"><a class=\"reference internal\" href=\"Volumes/04/04/ohio.html\">Ohio (1912)</a></li>\\n<li class=\"toctree-l2\"><a class=\"reference internal\" href=\"Volumes/09/06/womansuffrage.html\">Woman Suffrage (1915)</a></li>\\n<li class=\"toctree-l2\"><a class=\"reference internal\" href=\"Volumes/09/03/agility.html\">Agility (1915)</a></li>\\n<li class=\"toctree-l2\"><a class=\"reference internal\" href=\"Volumes/15/01/votes_for_women.html\">Votes for Women (1917)</a></li>\\n</ul>\\n</li>\\n<li class=\"toctree-l1\"><a class=\"reference internal\" href=\"Sections/race_riots.html\">Race Riots</a><ul>\\n<li class=\"toctree-l2\"><a class=\"reference internal\" href=\"Volumes/18/06/shillady_and_texas.html\">Shillady and Texas (1919)</a></li>\\n<li class=\"toctree-l2\"><a class=\"reference internal\" href=\"Volumes/34/06/mob_tactics.html\">Mob Tactics (1927)</a></li>\\n<li class=\"toctree-l2\"><a class=\"reference internal\" href=\"Volumes/19/03/brothers_come_north.html\">Brothers, Come North (1920)</a></li>\\n</ul>\\n</li>\\n<li class=\"toctree-l1\"><a class=\"reference internal\" href=\"Sections/other.html\">Miscellaneous</a><ul>\\n<li class=\"toctree-l2\"><a class=\"reference internal\" href=\"Sections/racescience.html\">Science of race</a><ul>\\n<li class=\"toctree-l3\"><a class=\"reference internal\" href=\"Volumes/02/04/races.html\">Races (1911)</a></li>\\n</ul>\\n</li>\\n<li class=\"toctree-l2\"><a class=\"reference internal\" href=\"Sections/criminal_justice.html\">Criminal Justice</a><ul>\\n<li class=\"toctree-l3\"><a class=\"reference internal\" href=\"Volumes/15/03/thirteen.html\">Thirteen (1919)</a></li>\\n<li class=\"toctree-l3\"><a class=\"reference internal\" href=\"Volumes/19/04/crime.html\">Crime (1920)</a></li>\\n<li class=\"toctree-l3\"><a class=\"reference internal\" href=\"Volumes/32/01/crime.html\">Crime (1926)</a></li>\\n<li class=\"toctree-l3\"><a class=\"reference internal\" href=\"Volumes/39/04/courts_and_jails.html\">Courts and Jails (1932)</a></li>\\n</ul>\\n</li>\\n<li class=\"toctree-l2\"><a class=\"reference internal\" href=\"Sections/intermarriage.html\">Intermarriage</a><ul>\\n<li class=\"toctree-l3\"><a class=\"reference internal\" href=\"Volumes/05/04/intermarriage.html\">Intermarriage (1913)</a></li>\\n<li class=\"toctree-l3\"><a class=\"reference internal\" href=\"Volumes/19/03/sex_equality.html\">Sex Equality (1920)</a></li>\\n<li class=\"toctree-l3\"><a class=\"reference internal\" href=\"Volumes/31/05/correspondence.html\">Correspondence (1926)</a></li>\\n</ul>\\n</li>\\n<li class=\"toctree-l2\"><a class=\"reference internal\" href=\"Sections/reparations.html\">Reparations</a><ul>\\n<li class=\"toctree-l3\"><a class=\"reference internal\" href=\"Volumes/24/02/whitecharity.html\">White Charity (1922)</a></li>\\n</ul>\\n</li>\\n<li class=\"toctree-l2\"><a class=\"reference internal\" href=\"Sections/colonialization.html\">Colonialization</a><ul>\\n<li class=\"toctree-l3\"><a class=\"reference internal\" href=\"Volumes/09/01/worldwar.html\">World War and the Color Line (1914)</a></li>\\n<li class=\"toctree-l3\"><a class=\"reference internal\" href=\"Volumes/17/04/reconstruction_and_africa.html\">Reconstruction and Africa (1919)</a></li>\\n<li class=\"toctree-l3\"><a class=\"reference internal\" href=\"Volumes/19/03/race_pride.html\">Race Pride (1920)</a></li>\\n<li class=\"toctree-l3\"><a class=\"reference internal\" href=\"Volumes/31/02/firing_line.html\">The Firing Line (1925)</a></li>\\n<li class=\"toctree-l3\"><a class=\"reference internal\" href=\"Volumes/40/01/listen_japan_and_china.html\">Listen, Japan and China (1933)</a></li>\\n</ul>\\n</li>\\n<li class=\"toctree-l2\"><a class=\"reference internal\" href=\"Sections/misc.html\">Miscellaneous</a><ul>\\n<li class=\"toctree-l3\"><a class=\"reference internal\" href=\"Volumes/03/05/lee.html\">Lee (1912)</a></li>\\n<li class=\"toctree-l3\"><a class=\"reference internal\" href=\"Volumes/09/02/negro.html\">Negro (1914)</a></li>\\n<li class=\"toctree-l3\"><a class=\"reference internal\" href=\"Volumes/06/07/national_emancipation_exposition.html\">The National Emancipation Exposition (1913)</a></li>\\n<li class=\"toctree-l3\"><a class=\"reference internal\" href=\"Volumes/11/02/star_of_ethiopia.html\">The Star of Ethiopia (1915)</a></li>\\n<li class=\"toctree-l3\"><a class=\"reference internal\" href=\"Volumes/18/03/reconstruction.html\">Reconstruction (1919)</a></li>\\n<li class=\"toctree-l3\"><a class=\"reference internal\" href=\"Volumes/19/01/social_equity.html\">Social Equity (1919)</a></li>\\n<li class=\"toctree-l3\"><a class=\"reference internal\" href=\"Volumes/34/02/farmers.html\">Farmers (1927)</a></li>\\n<li class=\"toctree-l3\"><a class=\"reference internal\" href=\"Volumes/39/01/john_brown.html\">John Brown (1932)</a></li>\\n<li class=\"toctree-l3\"><a class=\"reference internal\" href=\"Volumes/40/10/church_and_religion.html\">The Church and Religion (1933)</a></li>\\n<li class=\"toctree-l3\"><a class=\"reference internal\" href=\"Volumes/40/11/panafrica_and_new_racial_philosophy.html\">Pan-Africa and New Racial Philosophy (1933)</a></li>\\n<li class=\"toctree-l3\"><a class=\"reference internal\" href=\"Volumes/40/12/matter_of_manners.html\">A Matter of Manners (1933)</a></li>\\n<li class=\"toctree-l3\"><a class=\"reference internal\" href=\"Volumes/40/12/peace.html\">Peace (1933)</a></li>\\n<li class=\"toctree-l3\"><a class=\"reference internal\" href=\"Volumes/41/01/scottsboro.html\">Scottsboro (1934)</a></li>\\n</ul>\\n</li>\\n</ul>\\n</li>\\n<li class=\"toctree-l1\"><a class=\"reference internal\" href=\"random.html\">Random Encounters</a></li>\\n</ul>\\n</div>'"
      ]
     },
     "execution_count": 60,
     "metadata": {},
     "output_type": "execute_result"
    }
   ],
   "source": [
    "start = html.find('<div class=\"section\" id=\"table-of-contents\">')\n",
    "stop = start + 6 + html[start:].find('</div>')\n",
    "\n",
    "toc = html[start:stop]\n",
    "\n",
    "toc"
   ]
  },
  {
   "cell_type": "code",
   "execution_count": 61,
   "metadata": {},
   "outputs": [],
   "source": [
    "html = html.replace(toc, '\\n')"
   ]
  },
  {
   "cell_type": "code",
   "execution_count": 62,
   "metadata": {},
   "outputs": [],
   "source": [
    "with open(fn,'w') as outfile:\n",
    "    outfile.write(html)"
   ]
  },
  {
   "cell_type": "code",
   "execution_count": 63,
   "metadata": {},
   "outputs": [],
   "source": [
    "toc_fn = '/Users/nealcaren/Documents/GitHub/fightordie/_build/html/toc.html'\n",
    "with open(toc_fn,'r') as infile:\n",
    "    toc_html = infile.read()\n",
    "toc_html = toc_html.replace('<p>PLACEHOLDER</p>', toc)\n",
    "with open(toc_fn,'w') as outfile:\n",
    "    outfile.write(toc_html)\n"
   ]
  },
  {
   "cell_type": "code",
   "execution_count": 51,
   "metadata": {},
   "outputs": [
    {
     "data": {
      "text/plain": [
       "'<div class=\"section\" id=\"table-of-contents\">\\n<h2>Table of Contents<a class=\"headerlink\" href=\"#tabl'"
      ]
     },
     "execution_count": 51,
     "metadata": {},
     "output_type": "execute_result"
    }
   ],
   "source": [
    "toc"
   ]
  },
  {
   "cell_type": "code",
   "execution_count": null,
   "metadata": {},
   "outputs": [],
   "source": []
  }
 ],
 "metadata": {
  "kernelspec": {
   "display_name": "Python 3",
   "language": "python",
   "name": "python3"
  },
  "language_info": {
   "codemirror_mode": {
    "name": "ipython",
    "version": 3
   },
   "file_extension": ".py",
   "mimetype": "text/x-python",
   "name": "python",
   "nbconvert_exporter": "python",
   "pygments_lexer": "ipython3",
   "version": "3.8.5"
  }
 },
 "nbformat": 4,
 "nbformat_minor": 4
}
