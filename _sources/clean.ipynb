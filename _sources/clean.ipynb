{
 "cells": [
  {
   "cell_type": "code",
   "execution_count": 36,
   "metadata": {},
   "outputs": [],
   "source": [
    "fn = '/Users/nealcaren/Documents/GitHub/fightordie/_build/html/index.html'"
   ]
  },
  {
   "cell_type": "code",
   "execution_count": 37,
   "metadata": {},
   "outputs": [],
   "source": [
    "with open(fn,'r') as infile:\n",
    "    html = infile.read()\n",
    "    \n",
    "html = html.replace(\"<h1>Dare you Fight<a\", \"<h1>Dare you Fight: W.E.B. Du Bois in The Crisis<a\")\n",
    "html = html.replace(\"<h1>Dare you Fight</h1>\", \"<h1>Dare you Fight:<br>W.E.B. Du Bois in The Crisis</h1>\")"
   ]
  },
  {
   "cell_type": "code",
   "execution_count": 38,
   "metadata": {},
   "outputs": [],
   "source": [
    "start = html.find('<div class=\"section\" id=\"table-of-contents\">')\n",
    "stop = start + 6 + html[39032:].find('</div>')\n",
    "\n",
    "toc = html[start:stop]\n",
    "\n",
    "html = html.replace(toc, '\\n')"
   ]
  },
  {
   "cell_type": "code",
   "execution_count": 39,
   "metadata": {},
   "outputs": [],
   "source": [
    "with open(fn,'w') as outfile:\n",
    "    outfile.write(html)"
   ]
  },
  {
   "cell_type": "code",
   "execution_count": null,
   "metadata": {},
   "outputs": [],
   "source": []
  }
 ],
 "metadata": {
  "kernelspec": {
   "display_name": "Python 3",
   "language": "python",
   "name": "python3"
  },
  "language_info": {
   "codemirror_mode": {
    "name": "ipython",
    "version": 3
   },
   "file_extension": ".py",
   "mimetype": "text/x-python",
   "name": "python",
   "nbconvert_exporter": "python",
   "pygments_lexer": "ipython3",
   "version": "3.8.5"
  }
 },
 "nbformat": 4,
 "nbformat_minor": 4
}
