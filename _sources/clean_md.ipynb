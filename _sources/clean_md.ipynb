{
 "cells": [
  {
   "cell_type": "code",
   "execution_count": 4,
   "metadata": {},
   "outputs": [],
   "source": [
    "from glob import glob\n",
    "import re\n"
   ]
  },
  {
   "cell_type": "code",
   "execution_count": 2,
   "metadata": {},
   "outputs": [],
   "source": [
    "def clean(fn):\n",
    "    with open(fn,'r') as infile:\n",
    "        md = infile.read()\n",
    "    \n",
    "    # remove any indexes from last time\n",
    "    \n",
    "    old_indexs = re.findall('```\\{index\\}.*?```', md, re.DOTALL)\n",
    "    for old_index in old_indexs:\n",
    "        md = md.replace(old_index,'')\n",
    "    \n",
    "    # remove windows smartquotes:\n",
    "    table = {0x201c: '\"', 0x201d: '\"',\n",
    "        0x2018: \"'\", 0x2019: \"'\"}\n",
    "    md = md.translate(table)\n",
    "    \n",
    "    meta_text = md.split('-->')[0].split('<!--')[-1].splitlines()\n",
    "    meta_d = {'fn': fn}\n",
    "    for row in meta_text:\n",
    "        if ':' in row:\n",
    "            p = row.split(':')\n",
    "            \n",
    "            k = p[0]\n",
    "            v = ':'.join(p[1:])\n",
    "            \n",
    "            k,v = k.strip(), v.strip()\n",
    "            meta_d[k] = v\n",
    "    if 'author' not in meta_d:\n",
    "        meta_d['author'] = 'W.E.B. Du Bois'\n",
    "    if 'journal' not in meta_d:\n",
    "        meta_d['journal'] = 'The Crisis'    \n",
    "\n",
    "    \n",
    "    meta_d[\"pages\"] = meta_d[\"pages\"].replace('--','&ndash;')\n",
    "    meta_d[\"pages\"] = meta_d[\"pages\"].replace('-','&ndash;')\n",
    "    \n",
    "    title_text = f'''# {meta_d[\"title\"]} ({meta_d[\"year\"]})'''\n",
    "    new_cite_line = f'''*Citation:* {meta_d[\"author\"]}. {meta_d[\"year\"]}. \"{meta_d[\"title\"]}.\" *{meta_d[\"journal\"]}*. {meta_d[\"volume\"]}({meta_d[\"issue\"]}):{meta_d[\"pages\"]}.'''\n",
    "    new_cite_line = new_cite_line.replace('.. 1', '. 1')\n",
    "    new_cite_line = new_cite_line.replace(''''.\"''','''.'\"''' )\n",
    "    \n",
    "    for row in md.splitlines():\n",
    "        if row[:2] == '# ':\n",
    "            old_title_line = row\n",
    "        if '*Citation' in row:\n",
    "            old_cite_line = row\n",
    "            \n",
    "    #update\n",
    "    try:\n",
    "        md = md.replace(old_title_line, title_text)\n",
    "    except UnboundLocalError:\n",
    "        meta_end = md.find('-->')+ len('-->')\n",
    "        md = md[:meta_end] + f'\\n{title_text}\\n' + md[meta_end:]\n",
    "                           \n",
    "        \n",
    "    try:\n",
    "        md = md.replace(old_cite_line, new_cite_line)\n",
    "    except UnboundLocalError:\n",
    "        md = md + f'\\n{new_cite_line}'\n",
    "    \n",
    "    while '\\n\\n\\n' in md:\n",
    "        md = md.replace('\\n\\n\\n', '\\n\\n')\n",
    "\n",
    "    # Add index info\n",
    "    \n",
    "    index_directive = ''\n",
    "    try:   \n",
    "        index_text = meta_d['index']\n",
    "        for index in index_text.split('| '):\n",
    "            index_directive =  index_directive + \"```{index} \" + index + '\\n```\\n'\n",
    "    except KeyError:\n",
    "        pass\n",
    "    \n",
    "    '''if len(index_directive) > 0:\n",
    "        md = md + index_directive\n",
    "    '''    \n",
    "        \n",
    "    md = '\\n'.join([blockquote_fix(row) for row in md.splitlines()])\n",
    "    \n",
    "    \n",
    "    with open(fn,'w') as outfile:\n",
    "        outfile.write(md)\n",
    "\n",
    "# Attempt to fix quotes in block quotes\"\n",
    "def blockquote_fix(row):\n",
    "    old_row = row\n",
    "    if len(row)<1:\n",
    "        return row\n",
    "    row = row.replace('>\"',\"> \")\n",
    "    row = row.replace('> \"',\"> \")\n",
    "    row = row.replace('>  \"',\"> \")\n",
    "    row = row.replace('>   \"',\"> \")\n",
    "    \n",
    "    if row[0]==\">\" and row[-1]=='\"':\n",
    "        row = row[:-1]\n",
    "    if row[0]==\">\" and row[-2:]=='\" ':\n",
    "        row = row[:-2]\n",
    "        \n",
    "    return row\n",
    "\n",
    "\n",
    "        "
   ]
  },
  {
   "cell_type": "code",
   "execution_count": 3,
   "metadata": {},
   "outputs": [],
   "source": [
    "fns = glob('Volumes/**/*.md', recursive=True)\n",
    "#fns = glob('Volumes/16/01/*.md', recursive=True)\n",
    "\n",
    "fns = sorted(fns)\n",
    "\n",
    "for fn in fns:\n",
    "    clean(fn)"
   ]
  },
  {
   "cell_type": "code",
   "execution_count": 7,
   "metadata": {},
   "outputs": [
    {
     "data": {
      "text/plain": [
       "'> Dog'"
      ]
     },
     "execution_count": 7,
     "metadata": {},
     "output_type": "execute_result"
    }
   ],
   "source": [
    "a = '''> Dog\" '''\n",
    "\n",
    "blockquote_fix(a)"
   ]
  },
  {
   "cell_type": "code",
   "execution_count": null,
   "metadata": {},
   "outputs": [],
   "source": []
  }
 ],
 "metadata": {
  "kernelspec": {
   "display_name": "Python 3 (ipykernel)",
   "language": "python",
   "name": "python3"
  },
  "language_info": {
   "codemirror_mode": {
    "name": "ipython",
    "version": 3
   },
   "file_extension": ".py",
   "mimetype": "text/x-python",
   "name": "python",
   "nbconvert_exporter": "python",
   "pygments_lexer": "ipython3",
   "version": "3.10.12"
  }
 },
 "nbformat": 4,
 "nbformat_minor": 4
}
