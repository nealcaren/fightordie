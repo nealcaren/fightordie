{
 "cells": [
  {
   "cell_type": "code",
   "execution_count": 28,
   "metadata": {},
   "outputs": [],
   "source": [
    "from glob import glob\n",
    "import re"
   ]
  },
  {
   "cell_type": "code",
   "execution_count": 5,
   "metadata": {},
   "outputs": [],
   "source": [
    "mds = glob('**/*.md', recursive=True)"
   ]
  },
  {
   "cell_type": "code",
   "execution_count": 23,
   "metadata": {},
   "outputs": [],
   "source": [
    "def crisis_swap(text):\n",
    "    if '**The Crisis**' in text:\n",
    "        text = text.replace('**The Crisis**','<span style=\"font-variant:small-caps;\">The Crisis</span>')\n",
    "        print('Small capped')\n",
    "    if '**Crisis**' in text:\n",
    "        text = text.replace('**Crisis**','<span style=\"font-variant:small-caps;\">Crisis</span>')\n",
    "        print('Small capped')  \n",
    "    if 'THE CRISIS' in  text:\n",
    "        text = text.replace('THE CRISIS','<span style=\"font-variant:small-caps;\">The Crisis</span>')\n",
    "    \n",
    "    text = text.replace('NATIONAL ASSOCIATION FOR THE ADVANCEMENT OF COLORED PEOPLE', \n",
    "                       '<span style=\"font-variant:small-caps;\">National Association for the Advancement of Colored People</span>')\n",
    "    \n",
    "    return text\n",
    "\n",
    "\n",
    "def cite_fix(text):\n",
    "    if '*Citation:* \"' in text:\n",
    "        text = text.replace('*Citation:* \"','*Citation:* Du Bois, W.E.B. \"')"
   ]
  },
  {
   "cell_type": "code",
   "execution_count": 24,
   "metadata": {},
   "outputs": [],
   "source": [
    "def clean(fn):\n",
    "    with open(fn, 'r') as infile:\n",
    "        text = infile.read()\n",
    "        \n",
    "    text = crisis_swap(text)\n",
    "    \n",
    "    with open(fn, 'w') as outfile:\n",
    "        outfile.write(text)\n",
    "        "
   ]
  },
  {
   "cell_type": "code",
   "execution_count": 25,
   "metadata": {},
   "outputs": [],
   "source": [
    "fn = '/Users/nealcaren/Documents/GitHub/fightordie/Volumes/07/03/fightordie.md'"
   ]
  },
  {
   "cell_type": "code",
   "execution_count": 26,
   "metadata": {},
   "outputs": [],
   "source": [
    "clean(fn)"
   ]
  },
  {
   "cell_type": "code",
   "execution_count": 27,
   "metadata": {},
   "outputs": [],
   "source": [
    "sample = '*Citation:* \"Fight or Die\" Editorial. 1914. *The Crisis*. 7(3): 133-134.'"
   ]
  },
  {
   "cell_type": "code",
   "execution_count": 38,
   "metadata": {},
   "outputs": [],
   "source": [
    "text = sample\n",
    "py = re.findall('Editorial\\. (19..)', text)\n",
    "if len(py) == 1:\n",
    "    pubyear = py[0]\n",
    "    \n",
    "\n"
   ]
  },
  {
   "cell_type": "code",
   "execution_count": 64,
   "metadata": {},
   "outputs": [],
   "source": [
    "items = re.findall('\\*Citation:\\* \"(.*?)\" Editorial\\. (19.*?)\\. (\\*The Crisis\\*\\..*?\\.)', sample)"
   ]
  },
  {
   "cell_type": "code",
   "execution_count": 72,
   "metadata": {},
   "outputs": [
    {
     "data": {
      "text/plain": [
       "'*Citation: Du Bois, W.E.B. 1914. \"Fight or Die.\"  '"
      ]
     },
     "execution_count": 72,
     "metadata": {},
     "output_type": "execute_result"
    }
   ],
   "source": [
    "title = items[0][0]\n",
    "year = items[0][1]\n",
    "pub = items[0][2]\n",
    "new = f'*Citation: Du Bois, W.E.B. {year}. \"{title}.\"  '\n",
    "new\n"
   ]
  },
  {
   "cell_type": "code",
   "execution_count": 66,
   "metadata": {},
   "outputs": [
    {
     "ename": "IndexError",
     "evalue": "list index out of range",
     "output_type": "error",
     "traceback": [
      "\u001b[0;31m---------------------------------------------------------------------------\u001b[0m",
      "\u001b[0;31mIndexError\u001b[0m                                Traceback (most recent call last)",
      "\u001b[0;32m<ipython-input-66-78658e914f8a>\u001b[0m in \u001b[0;36m<module>\u001b[0;34m\u001b[0m\n\u001b[0;32m----> 1\u001b[0;31m \u001b[0mnew\u001b[0m \u001b[0;34m=\u001b[0m \u001b[0;34mf'*Citation: Du Bois, W.E.B. {items[1]}. {items[0]} '\u001b[0m\u001b[0;34m\u001b[0m\u001b[0;34m\u001b[0m\u001b[0m\n\u001b[0m\u001b[1;32m      2\u001b[0m \u001b[0mnew\u001b[0m\u001b[0;34m\u001b[0m\u001b[0;34m\u001b[0m\u001b[0m\n",
      "\u001b[0;31mIndexError\u001b[0m: list index out of range"
     ]
    }
   ],
   "source": [
    "new"
   ]
  },
  {
   "cell_type": "code",
   "execution_count": 68,
   "metadata": {},
   "outputs": [],
   "source": []
  },
  {
   "cell_type": "code",
   "execution_count": null,
   "metadata": {},
   "outputs": [],
   "source": []
  }
 ],
 "metadata": {
  "kernelspec": {
   "display_name": "Python 3",
   "language": "python",
   "name": "python3"
  },
  "language_info": {
   "codemirror_mode": {
    "name": "ipython",
    "version": 3
   },
   "file_extension": ".py",
   "mimetype": "text/x-python",
   "name": "python",
   "nbconvert_exporter": "python",
   "pygments_lexer": "ipython3",
   "version": "3.8.5"
  }
 },
 "nbformat": 4,
 "nbformat_minor": 4
}
