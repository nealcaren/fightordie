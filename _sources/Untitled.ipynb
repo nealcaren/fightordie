{
 "cells": [
  {
   "cell_type": "code",
   "execution_count": 28,
   "metadata": {},
   "outputs": [],
   "source": [
    "from glob import glob\n",
    "import re"
   ]
  },
  {
   "cell_type": "code",
   "execution_count": 5,
   "metadata": {},
   "outputs": [],
   "source": [
    "mds = glob('**/*.md', recursive=True)"
   ]
  },
  {
   "cell_type": "code",
   "execution_count": 76,
   "metadata": {},
   "outputs": [],
   "source": [
    "def crisis_swap(text):\n",
    "    if '**The Crisis**' in text:\n",
    "        text = text.replace('**The Crisis**','<span style=\"font-variant:small-caps;\">The Crisis</span>')\n",
    "        print('Small capped')\n",
    "    if '**Crisis**' in text:\n",
    "        text = text.replace('**Crisis**','<span style=\"font-variant:small-caps;\">Crisis</span>')\n",
    "        print('Small capped')  \n",
    "    if 'THE CRISIS' in  text:\n",
    "        text = text.replace('THE CRISIS','<span style=\"font-variant:small-caps;\">The Crisis</span>')\n",
    "    \n",
    "    text = text.replace('NATIONAL ASSOCIATION FOR THE ADVANCEMENT OF COLORED PEOPLE', \n",
    "                       '<span style=\"font-variant:small-caps;\">National Association for the Advancement of Colored People</span>')\n",
    "    \n",
    "    return text\n",
    "\n",
    "\n",
    "def cite_fix(text):\n",
    "    new_txt = []\n",
    "    for line in text.splitlines():\n",
    "        if '*Citation:* ' in line and \"Editorial.\" in line:\n",
    "            \n",
    "            text = text.replace('*Citation:* \"','*Citation:* Du Bois, W.E.B. \"')\n",
    "            \n",
    "            items = re.findall('\\*Citation:\\* \"(.*?)\" Editorial\\. (19.*?)\\. (\\*The Crisis\\*\\..*?\\.)', line)\n",
    "            title = items[0][0]\n",
    "            year = items[0][1]\n",
    "            pub = items[0][2]\n",
    "            new = f'*Citation:* Du Bois, W.E.B. {year}. \"{title}.\" {pub}'\n",
    "            new_txt.append(new)\n",
    "            print('Cite fixed')\n",
    "        else:\n",
    "            new_txt.append(line)\n",
    "            \n",
    "    return '\\n'.join(new_txt)\n",
    "\n"
   ]
  },
  {
   "cell_type": "code",
   "execution_count": 24,
   "metadata": {},
   "outputs": [],
   "source": [
    "def clean(fn):\n",
    "    with open(fn, 'r') as infile:\n",
    "        text = infile.read()\n",
    "        \n",
    "    text = crisis_swap(text)\n",
    "    \n",
    "    text = cite_fix(text)\n",
    "    \n",
    "    with open(fn, 'w') as outfile:\n",
    "        outfile.write(text)\n",
    "        "
   ]
  },
  {
   "cell_type": "code",
   "execution_count": 25,
   "metadata": {},
   "outputs": [],
   "source": [
    "fn = '/Users/nealcaren/Documents/GitHub/fightordie/Volumes/07/03/fightordie.md'"
   ]
  },
  {
   "cell_type": "code",
   "execution_count": 26,
   "metadata": {},
   "outputs": [],
   "source": [
    "clean(fn)"
   ]
  },
  {
   "cell_type": "code",
   "execution_count": 27,
   "metadata": {},
   "outputs": [],
   "source": [
    "sample = '*Citation:* \"Fight or Die\" Editorial. 1914. *The Crisis*. 7(3): 133-134.'"
   ]
  },
  {
   "cell_type": "code",
   "execution_count": 38,
   "metadata": {},
   "outputs": [],
   "source": [
    "text = sample\n",
    "py = re.findall('Editorial\\. (19..)', text)\n",
    "if len(py) == 1:\n",
    "    pubyear = py[0]\n",
    "    \n",
    "\n"
   ]
  },
  {
   "cell_type": "code",
   "execution_count": 64,
   "metadata": {},
   "outputs": [],
   "source": []
  },
  {
   "cell_type": "code",
   "execution_count": 74,
   "metadata": {},
   "outputs": [
    {
     "data": {
      "text/plain": [
       "'*Citation:* Du Bois, W.E.B. 1914. \"Fight or Die.\" *The Crisis*. 7(3): 133-134.'"
      ]
     },
     "execution_count": 74,
     "metadata": {},
     "output_type": "execute_result"
    }
   ],
   "source": []
  },
  {
   "cell_type": "code",
   "execution_count": 75,
   "metadata": {},
   "outputs": [
    {
     "data": {
      "text/plain": [
       "'*Citation:* Du Bois, W.E.B. 1914. \"Fight or Die.\" *The Crisis*. 7(3): 133-134.'"
      ]
     },
     "execution_count": 75,
     "metadata": {},
     "output_type": "execute_result"
    }
   ],
   "source": [
    "new"
   ]
  },
  {
   "cell_type": "code",
   "execution_count": 68,
   "metadata": {},
   "outputs": [],
   "source": []
  },
  {
   "cell_type": "code",
   "execution_count": null,
   "metadata": {},
   "outputs": [],
   "source": []
  }
 ],
 "metadata": {
  "kernelspec": {
   "display_name": "Python 3",
   "language": "python",
   "name": "python3"
  },
  "language_info": {
   "codemirror_mode": {
    "name": "ipython",
    "version": 3
   },
   "file_extension": ".py",
   "mimetype": "text/x-python",
   "name": "python",
   "nbconvert_exporter": "python",
   "pygments_lexer": "ipython3",
   "version": "3.8.5"
  }
 },
 "nbformat": 4,
 "nbformat_minor": 4
}
