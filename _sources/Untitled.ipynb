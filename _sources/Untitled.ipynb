{
 "cells": [
  {
   "cell_type": "code",
   "execution_count": 2,
   "metadata": {},
   "outputs": [],
   "source": [
    "from glob import glob"
   ]
  },
  {
   "cell_type": "code",
   "execution_count": 5,
   "metadata": {},
   "outputs": [],
   "source": [
    "mds = glob('**/*.md', recursive=True)"
   ]
  },
  {
   "cell_type": "code",
   "execution_count": 12,
   "metadata": {},
   "outputs": [],
   "source": [
    "def crisis_swap(text):\n",
    "    if '**The Crisis**' in text:\n",
    "        text = text.replace('**The Crisis**','<span style=\"font-variant:small-caps;\">The Crisis</span>')\n",
    "        print('Small capped')\n",
    "    if '**Crisis**' in text:\n",
    "        text = text.replace('**Crisis**','<span style=\"font-variant:small-caps;\">Crisis</span>')\n",
    "        print('Small capped')  \n",
    "    if 'THE CRISIS' in  text:\n",
    "        text = text.replace('THE CRISIS','<span style=\"font-variant:small-caps;\">The Crisis</span>')\n",
    "\n",
    "\n",
    "    return text"
   ]
  },
  {
   "cell_type": "code",
   "execution_count": 13,
   "metadata": {},
   "outputs": [],
   "source": [
    "def clean(fn):\n",
    "    with open(fn, 'r') as infile:\n",
    "        text = infile.read()\n",
    "        \n",
    "    text = crisis_swap(text)\n",
    "    \n",
    "    with open(fn, 'w') as outfile:\n",
    "        outfile.write(text)\n",
    "        "
   ]
  },
  {
   "cell_type": "code",
   "execution_count": 16,
   "metadata": {},
   "outputs": [],
   "source": [
    "fn = '/Users/nealcaren/Documents/GitHub/fightordie/Volumes/01/01/TheCrisis.md'"
   ]
  },
  {
   "cell_type": "code",
   "execution_count": 17,
   "metadata": {},
   "outputs": [
    {
     "name": "stdout",
     "output_type": "stream",
     "text": [
      "Small capped\n"
     ]
    }
   ],
   "source": [
    "clean(fn)"
   ]
  },
  {
   "cell_type": "code",
   "execution_count": null,
   "metadata": {},
   "outputs": [],
   "source": []
  }
 ],
 "metadata": {
  "kernelspec": {
   "display_name": "Python 3",
   "language": "python",
   "name": "python3"
  },
  "language_info": {
   "codemirror_mode": {
    "name": "ipython",
    "version": 3
   },
   "file_extension": ".py",
   "mimetype": "text/x-python",
   "name": "python",
   "nbconvert_exporter": "python",
   "pygments_lexer": "ipython3",
   "version": "3.8.5"
  }
 },
 "nbformat": 4,
 "nbformat_minor": 4
}
