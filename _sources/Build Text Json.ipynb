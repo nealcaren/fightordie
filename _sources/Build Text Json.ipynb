{
 "cells": [
  {
   "cell_type": "code",
   "execution_count": 1,
   "id": "63ee0c12",
   "metadata": {},
   "outputs": [],
   "source": [
    "import pandas as pd\n",
    "from glob import glob"
   ]
  },
  {
   "cell_type": "code",
   "execution_count": 15,
   "id": "0a557564",
   "metadata": {},
   "outputs": [],
   "source": [
    "fns = glob('Volumes/**/*.md', recursive=True)\n",
    "#fns = glob('Volumes/16/01/*.md', recursive=True)\n",
    "\n",
    "fns = sorted(fns)\n",
    "\n",
    "data = []\n",
    "\n",
    "for fn in fns:\n",
    "    with open(fn, 'r') as infile:\n",
    "        md = infile.read()\n",
    "        citation = md.split('Citation:* ')[-1]\n",
    "        text = md.split('Citation:* ')[0].split('-->')[1]\n",
    "        data.append({'citation':citation, 'text':text})\n",
    "        "
   ]
  },
  {
   "cell_type": "code",
   "execution_count": 17,
   "id": "8cc55b94",
   "metadata": {},
   "outputs": [],
   "source": [
    "pd.DataFrame(data).to_json('full_text.json',orient='records')"
   ]
  },
  {
   "cell_type": "code",
   "execution_count": null,
   "id": "78b3f739",
   "metadata": {},
   "outputs": [],
   "source": []
  }
 ],
 "metadata": {
  "kernelspec": {
   "display_name": "Python 3 (ipykernel)",
   "language": "python",
   "name": "python3"
  },
  "language_info": {
   "codemirror_mode": {
    "name": "ipython",
    "version": 3
   },
   "file_extension": ".py",
   "mimetype": "text/x-python",
   "name": "python",
   "nbconvert_exporter": "python",
   "pygments_lexer": "ipython3",
   "version": "3.10.12"
  }
 },
 "nbformat": 4,
 "nbformat_minor": 5
}
