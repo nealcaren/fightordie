{
 "cells": [
  {
   "cell_type": "code",
   "execution_count": 1,
   "id": "f295762d",
   "metadata": {},
   "outputs": [],
   "source": []
  },
  {
   "cell_type": "code",
   "execution_count": 19,
   "id": "d6cf6f01",
   "metadata": {},
   "outputs": [],
   "source": [
    "from glob import glob\n",
    "\n",
    "fns = glob('_build/html/Volumes/40/**/*.html', recursive=True)\n",
    "\n",
    "for fn in fns:\n",
    "    \n",
    "    with open(fn,'r') as infile:\n",
    "        html = infile.read()\n",
    "        \n",
    "    ugh = \" &#8212; Dare you Fight&amp;#58;&lt;br/&gt;W.E.B. Du Bois&lt;br/&gt;in The Crisis\"\n",
    "\n",
    "    html = html.replace(ugh,'')\n",
    "    with open(fn,'w') as outfile:\n",
    "        outfile.write(html)\n",
    "    "
   ]
  },
  {
   "cell_type": "code",
   "execution_count": null,
   "id": "76a18aa7",
   "metadata": {},
   "outputs": [],
   "source": []
  }
 ],
 "metadata": {
  "kernelspec": {
   "display_name": "Python 3 (ipykernel)",
   "language": "python",
   "name": "python3"
  },
  "language_info": {
   "codemirror_mode": {
    "name": "ipython",
    "version": 3
   },
   "file_extension": ".py",
   "mimetype": "text/x-python",
   "name": "python",
   "nbconvert_exporter": "python",
   "pygments_lexer": "ipython3",
   "version": "3.9.7"
  }
 },
 "nbformat": 4,
 "nbformat_minor": 5
}
