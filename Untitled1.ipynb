{
 "cells": [
  {
   "cell_type": "code",
   "execution_count": 1,
   "metadata": {},
   "outputs": [],
   "source": [
    "from glob import glob\n",
    "import pandas as pd"
   ]
  },
  {
   "cell_type": "code",
   "execution_count": 56,
   "metadata": {},
   "outputs": [],
   "source": [
    "fns = glob('Volumes/**/*.md', recursive = True)"
   ]
  },
  {
   "cell_type": "code",
   "execution_count": 11,
   "metadata": {},
   "outputs": [],
   "source": [
    "fn = 'Volumes/03/04/light.md'"
   ]
  },
  {
   "cell_type": "code",
   "execution_count": 14,
   "metadata": {},
   "outputs": [],
   "source": []
  },
  {
   "cell_type": "code",
   "execution_count": 87,
   "metadata": {},
   "outputs": [],
   "source": [
    "def extract_details(fn):\n",
    "    with open(fn, 'r') as infile:\n",
    "        text = infile.read()\n",
    "    fl = text.splitlines()[0][2:]\n",
    "    title = fl.split('(')[0].strip()\n",
    "    year = fl.split('(')[-1].split(')')[0]\n",
    "    volume = fn.split('/')[1]\n",
    "    issue = fn.split('/')[2]\n",
    "    md = fn.split('/')[-1]\n",
    "    citation = [l for l in text.splitlines() if 'Citation:' in l][0]\n",
    "    start_page = citation.split(':')[-1].split('-')[0]\n",
    "    return {'Title': title,\n",
    "           'Year': year,\n",
    "           'Volume' : volume,\n",
    "           'Issue' : issue,\n",
    "            'Page' : start_page,\n",
    "            'Status' : 'uploaded',\n",
    "           'File Name' : md}\n",
    "\n"
   ]
  },
  {
   "cell_type": "code",
   "execution_count": 88,
   "metadata": {},
   "outputs": [],
   "source": [
    "l = [extract_details(fn) for fn in fns]"
   ]
  },
  {
   "cell_type": "code",
   "execution_count": 93,
   "metadata": {},
   "outputs": [],
   "source": [
    "df = pd.DataFrame(l)\n",
    "df = df.sort_values(by=['Volume','Issue'])\n",
    "df['Category'] =''\n",
    "df['Notes']  = ''"
   ]
  },
  {
   "cell_type": "code",
   "execution_count": 96,
   "metadata": {},
   "outputs": [],
   "source": [
    "df[['Title','Year','Volume','Issue','Page','Status','Category','Notes']].to_csv('done.csv')"
   ]
  },
  {
   "cell_type": "code",
   "execution_count": null,
   "metadata": {},
   "outputs": [],
   "source": []
  }
 ],
 "metadata": {
  "kernelspec": {
   "display_name": "Python 3",
   "language": "python",
   "name": "python3"
  },
  "language_info": {
   "codemirror_mode": {
    "name": "ipython",
    "version": 3
   },
   "file_extension": ".py",
   "mimetype": "text/x-python",
   "name": "python",
   "nbconvert_exporter": "python",
   "pygments_lexer": "ipython3",
   "version": "3.8.5"
  }
 },
 "nbformat": 4,
 "nbformat_minor": 4
}
